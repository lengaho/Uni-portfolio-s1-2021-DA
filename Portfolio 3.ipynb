{
 "cells": [
  {
   "cell_type": "markdown",
   "metadata": {},
   "source": [
    "* Student ID: **46210288**\n",
    "* Student name: **Le Nga Ho**\n",
    "* Portfolio Github repo URL: https://github.com/MQCOMP6200/portfolio-s1-2021-lengaho"
   ]
  },
  {
   "cell_type": "code",
   "execution_count": 1,
   "metadata": {
    "ExecuteTime": {
     "end_time": "2021-05-16T06:55:29.851201Z",
     "start_time": "2021-05-16T06:55:27.934313Z"
    }
   },
   "outputs": [],
   "source": [
    "import pandas as pd\n",
    "import numpy as np\n",
    "import matplotlib.pyplot as plt\n",
    "import seaborn as sns\n",
    "%matplotlib inline\n",
    "from time import time\n",
    "from sklearn.feature_extraction.text import TfidfVectorizer\n",
    "\n",
    "from sklearn.model_selection import train_test_split\n",
    "from sklearn.linear_model import LogisticRegression\n",
    "from sklearn.naive_bayes import BernoulliNB, ComplementNB, MultinomialNB\n",
    "\n",
    "from sklearn.metrics import mean_squared_error, r2_score\n",
    "from sklearn.metrics import classification_report, confusion_matrix, accuracy_score\n",
    "from sklearn.feature_selection import RFE"
   ]
  },
  {
   "cell_type": "markdown",
   "metadata": {},
   "source": [
    "# Predicting the Genre of Books from Summaries\n",
    "\n",
    "We'll use a set of book summaries from the [CMU Book Summaries Corpus](http://www.cs.cmu.edu/~dbamman/booksummaries.html) in this experiment.  This contains a large number of summaries (16,559) and includes meta-data about the genre of the books taken from Freebase.  Each book can have more than one genre and there are 227 genres listed in total.  To simplify the problem of genre prediction we will select a small number of target genres that occur frequently in the collection and select the books with these genre labels.  This will give us one genre label per book. \n",
    "\n",
    "Your goal in this portfolio is to take this data and build predictive models to classify the books into one of the five target genres.  You will need to extract suitable features from the texts and select suitable models to classify them. You should build and evaluate at least TWO models and compare the prediction results.\n",
    "\n",
    "You should report on each stage of your experiment as you work with the data.\n"
   ]
  },
  {
   "cell_type": "markdown",
   "metadata": {},
   "source": [
    "## Data Preparation\n",
    "\n",
    "The first task is to read the data. It is made available in tab-separated format but has no column headings. We can use `read_csv` to read this but we need to set the separator to `\\t` (tab) and supply the column names.  The names come from the [ReadMe](data/booksummaries/README.txt) file."
   ]
  },
  {
   "cell_type": "code",
   "execution_count": 2,
   "metadata": {
    "ExecuteTime": {
     "end_time": "2021-05-16T06:55:30.280750Z",
     "start_time": "2021-05-16T06:55:29.855218Z"
    },
    "scrolled": false
   },
   "outputs": [
    {
     "data": {
      "text/html": [
       "<div>\n",
       "<style scoped>\n",
       "    .dataframe tbody tr th:only-of-type {\n",
       "        vertical-align: middle;\n",
       "    }\n",
       "\n",
       "    .dataframe tbody tr th {\n",
       "        vertical-align: top;\n",
       "    }\n",
       "\n",
       "    .dataframe thead th {\n",
       "        text-align: right;\n",
       "    }\n",
       "</style>\n",
       "<table border=\"1\" class=\"dataframe\">\n",
       "  <thead>\n",
       "    <tr style=\"text-align: right;\">\n",
       "      <th></th>\n",
       "      <th>wid</th>\n",
       "      <th>fid</th>\n",
       "      <th>title</th>\n",
       "      <th>author</th>\n",
       "      <th>date</th>\n",
       "      <th>genres</th>\n",
       "      <th>summary</th>\n",
       "    </tr>\n",
       "  </thead>\n",
       "  <tbody>\n",
       "    <tr>\n",
       "      <th>0</th>\n",
       "      <td>620</td>\n",
       "      <td>/m/0hhy</td>\n",
       "      <td>Animal Farm</td>\n",
       "      <td>George Orwell</td>\n",
       "      <td>1945-08-17</td>\n",
       "      <td>{\"/m/016lj8\": \"Roman \\u00e0 clef\", \"/m/06nbt\":...</td>\n",
       "      <td>Old Major, the old boar on the Manor Farm, ca...</td>\n",
       "    </tr>\n",
       "    <tr>\n",
       "      <th>1</th>\n",
       "      <td>843</td>\n",
       "      <td>/m/0k36</td>\n",
       "      <td>A Clockwork Orange</td>\n",
       "      <td>Anthony Burgess</td>\n",
       "      <td>1962</td>\n",
       "      <td>{\"/m/06n90\": \"Science Fiction\", \"/m/0l67h\": \"N...</td>\n",
       "      <td>Alex, a teenager living in near-future Englan...</td>\n",
       "    </tr>\n",
       "    <tr>\n",
       "      <th>2</th>\n",
       "      <td>986</td>\n",
       "      <td>/m/0ldx</td>\n",
       "      <td>The Plague</td>\n",
       "      <td>Albert Camus</td>\n",
       "      <td>1947</td>\n",
       "      <td>{\"/m/02m4t\": \"Existentialism\", \"/m/02xlf\": \"Fi...</td>\n",
       "      <td>The text of The Plague is divided into five p...</td>\n",
       "    </tr>\n",
       "    <tr>\n",
       "      <th>3</th>\n",
       "      <td>1756</td>\n",
       "      <td>/m/0sww</td>\n",
       "      <td>An Enquiry Concerning Human Understanding</td>\n",
       "      <td>David Hume</td>\n",
       "      <td></td>\n",
       "      <td></td>\n",
       "      <td>The argument of the Enquiry proceeds by a ser...</td>\n",
       "    </tr>\n",
       "    <tr>\n",
       "      <th>4</th>\n",
       "      <td>2080</td>\n",
       "      <td>/m/0wkt</td>\n",
       "      <td>A Fire Upon the Deep</td>\n",
       "      <td>Vernor Vinge</td>\n",
       "      <td></td>\n",
       "      <td>{\"/m/03lrw\": \"Hard science fiction\", \"/m/06n90...</td>\n",
       "      <td>The novel posits that space around the Milky ...</td>\n",
       "    </tr>\n",
       "  </tbody>\n",
       "</table>\n",
       "</div>"
      ],
      "text/plain": [
       "    wid      fid                                      title           author  \\\n",
       "0   620  /m/0hhy                                Animal Farm    George Orwell   \n",
       "1   843  /m/0k36                         A Clockwork Orange  Anthony Burgess   \n",
       "2   986  /m/0ldx                                 The Plague     Albert Camus   \n",
       "3  1756  /m/0sww  An Enquiry Concerning Human Understanding       David Hume   \n",
       "4  2080  /m/0wkt                       A Fire Upon the Deep     Vernor Vinge   \n",
       "\n",
       "         date                                             genres  \\\n",
       "0  1945-08-17  {\"/m/016lj8\": \"Roman \\u00e0 clef\", \"/m/06nbt\":...   \n",
       "1        1962  {\"/m/06n90\": \"Science Fiction\", \"/m/0l67h\": \"N...   \n",
       "2        1947  {\"/m/02m4t\": \"Existentialism\", \"/m/02xlf\": \"Fi...   \n",
       "3                                                                  \n",
       "4              {\"/m/03lrw\": \"Hard science fiction\", \"/m/06n90...   \n",
       "\n",
       "                                             summary  \n",
       "0   Old Major, the old boar on the Manor Farm, ca...  \n",
       "1   Alex, a teenager living in near-future Englan...  \n",
       "2   The text of The Plague is divided into five p...  \n",
       "3   The argument of the Enquiry proceeds by a ser...  \n",
       "4   The novel posits that space around the Milky ...  "
      ]
     },
     "execution_count": 2,
     "metadata": {},
     "output_type": "execute_result"
    }
   ],
   "source": [
    "names = ['wid', 'fid', 'title', 'author', 'date', 'genres', 'summary']\n",
    "\n",
    "books = pd.read_csv(\"data/booksummaries/booksummaries.txt\", sep=\"\\t\", header=None, names=names, keep_default_na=False)\n",
    "books.head()"
   ]
  },
  {
   "cell_type": "markdown",
   "metadata": {},
   "source": [
    "We next filter the data so that only our target genre labels are included and we assign each text to just one of the genre labels.  It's possible that one text could be labelled with two of these labels (eg. Science Fiction and Fantasy) but we will just assign one of those here. "
   ]
  },
  {
   "cell_type": "code",
   "execution_count": 3,
   "metadata": {
    "ExecuteTime": {
     "end_time": "2021-05-16T06:55:30.343948Z",
     "start_time": "2021-05-16T06:55:30.282738Z"
    }
   },
   "outputs": [
    {
     "name": "stdout",
     "output_type": "stream",
     "text": [
      "(8954, 5)\n",
      "                  title             author        date  \\\n",
      "0           Animal Farm      George Orwell  1945-08-17   \n",
      "1    A Clockwork Orange    Anthony Burgess        1962   \n",
      "2            The Plague       Albert Camus        1947   \n",
      "4  A Fire Upon the Deep       Vernor Vinge               \n",
      "6  A Wizard of Earthsea  Ursula K. Le Guin        1968   \n",
      "\n",
      "                                             summary                  genre  \n",
      "0   Old Major, the old boar on the Manor Farm, ca...  Children's literature  \n",
      "1   Alex, a teenager living in near-future Englan...                  Novel  \n",
      "2   The text of The Plague is divided into five p...                  Novel  \n",
      "4   The novel posits that space around the Milky ...                Fantasy  \n",
      "6   Ged is a young boy on Gont, one of the larger...                Fantasy  \n"
     ]
    }
   ],
   "source": [
    "target_genres = [\"Children's literature\",\n",
    "                 'Science Fiction',\n",
    "                 'Novel',\n",
    "                 'Fantasy',\n",
    "                 'Mystery']\n",
    "\n",
    "# Create a Series of empty strings the same length as the list of books\n",
    "genre = pd.Series(np.repeat(\"\", books.shape[0]))\n",
    "# Look for each target genre and set the corresponding entries in the genre series to the genre label\n",
    "for g in target_genres:\n",
    "    genre[books['genres'].str.contains(g)] = g\n",
    "\n",
    "# Add this to the book dataframe and then select only those rows that have a genre label\n",
    "# Drop some useless columns\n",
    "books['genre'] = genre\n",
    "genre_books = books[genre!=''].drop(['genres', 'fid', 'wid'], axis=1)\n",
    "\n",
    "print(genre_books.shape)\n",
    "print(genre_books.head())"
   ]
  },
  {
   "cell_type": "code",
   "execution_count": 4,
   "metadata": {
    "ExecuteTime": {
     "end_time": "2021-05-16T06:55:30.359938Z",
     "start_time": "2021-05-16T06:55:30.345950Z"
    }
   },
   "outputs": [
    {
     "data": {
      "text/html": [
       "<div>\n",
       "<style scoped>\n",
       "    .dataframe tbody tr th:only-of-type {\n",
       "        vertical-align: middle;\n",
       "    }\n",
       "\n",
       "    .dataframe tbody tr th {\n",
       "        vertical-align: top;\n",
       "    }\n",
       "\n",
       "    .dataframe thead th {\n",
       "        text-align: right;\n",
       "    }\n",
       "</style>\n",
       "<table border=\"1\" class=\"dataframe\">\n",
       "  <thead>\n",
       "    <tr style=\"text-align: right;\">\n",
       "      <th></th>\n",
       "      <th>title</th>\n",
       "      <th>author</th>\n",
       "      <th>date</th>\n",
       "      <th>summary</th>\n",
       "    </tr>\n",
       "    <tr>\n",
       "      <th>genre</th>\n",
       "      <th></th>\n",
       "      <th></th>\n",
       "      <th></th>\n",
       "      <th></th>\n",
       "    </tr>\n",
       "  </thead>\n",
       "  <tbody>\n",
       "    <tr>\n",
       "      <th>Children's literature</th>\n",
       "      <td>1092</td>\n",
       "      <td>1092</td>\n",
       "      <td>1092</td>\n",
       "      <td>1092</td>\n",
       "    </tr>\n",
       "    <tr>\n",
       "      <th>Fantasy</th>\n",
       "      <td>2311</td>\n",
       "      <td>2311</td>\n",
       "      <td>2311</td>\n",
       "      <td>2311</td>\n",
       "    </tr>\n",
       "    <tr>\n",
       "      <th>Mystery</th>\n",
       "      <td>1396</td>\n",
       "      <td>1396</td>\n",
       "      <td>1396</td>\n",
       "      <td>1396</td>\n",
       "    </tr>\n",
       "    <tr>\n",
       "      <th>Novel</th>\n",
       "      <td>2258</td>\n",
       "      <td>2258</td>\n",
       "      <td>2258</td>\n",
       "      <td>2258</td>\n",
       "    </tr>\n",
       "    <tr>\n",
       "      <th>Science Fiction</th>\n",
       "      <td>1897</td>\n",
       "      <td>1897</td>\n",
       "      <td>1897</td>\n",
       "      <td>1897</td>\n",
       "    </tr>\n",
       "  </tbody>\n",
       "</table>\n",
       "</div>"
      ],
      "text/plain": [
       "                       title  author  date  summary\n",
       "genre                                              \n",
       "Children's literature   1092    1092  1092     1092\n",
       "Fantasy                 2311    2311  2311     2311\n",
       "Mystery                 1396    1396  1396     1396\n",
       "Novel                   2258    2258  2258     2258\n",
       "Science Fiction         1897    1897  1897     1897"
      ]
     },
     "execution_count": 4,
     "metadata": {},
     "output_type": "execute_result"
    }
   ],
   "source": [
    "# Check how many books we have in each genre category\n",
    "genre_books.groupby('genre').count()"
   ]
  },
  {
   "cell_type": "markdown",
   "metadata": {},
   "source": [
    "**Comment:** The dataset is quite imbalanced, especially for the number of children's literature books. The ratio between **Fantasy** genre with the largest number of books versus **Children's literature** with the least books is 2311/1092 ~ **2.12**."
   ]
  },
  {
   "cell_type": "markdown",
   "metadata": {},
   "source": [
    "## Feature Exaction\n",
    "\n",
    "Perform feature extraction to produce feature vectors for the predictive models.\n",
    "\n",
    "### Determine extracted summary as the predictors - X"
   ]
  },
  {
   "cell_type": "code",
   "execution_count": 5,
   "metadata": {
    "ExecuteTime": {
     "end_time": "2021-05-16T06:55:33.124713Z",
     "start_time": "2021-05-16T06:55:30.360936Z"
    }
   },
   "outputs": [
    {
     "name": "stdout",
     "output_type": "stream",
     "text": [
      "(8954, 20000)\n"
     ]
    }
   ],
   "source": [
    "# Convert word to tfidf with optimisation\n",
    "vectorizer = TfidfVectorizer(max_features=20000, min_df=5, stop_words='english')\n",
    "X = vectorizer.fit_transform(genre_books.summary)\n",
    "print(X.shape)"
   ]
  },
  {
   "cell_type": "markdown",
   "metadata": {},
   "source": [
    "**Note:** \n",
    "`min_df` = the minimum number (or percentage) of documents that contain the word. It is used to eliminate insignificant predictors (e.g. words that are misspelled or unique to one book)"
   ]
  },
  {
   "cell_type": "markdown",
   "metadata": {},
   "source": [
    "### Determine target genres as the response - Y"
   ]
  },
  {
   "cell_type": "code",
   "execution_count": 6,
   "metadata": {
    "ExecuteTime": {
     "end_time": "2021-05-16T06:55:33.140716Z",
     "start_time": "2021-05-16T06:55:33.126713Z"
    },
    "scrolled": false
   },
   "outputs": [
    {
     "name": "stdout",
     "output_type": "stream",
     "text": [
      "{\"Children's literature\": 0, 'Science Fiction': 1, 'Novel': 2, 'Fantasy': 3, 'Mystery': 4}\n"
     ]
    },
    {
     "data": {
      "text/html": [
       "<div>\n",
       "<style scoped>\n",
       "    .dataframe tbody tr th:only-of-type {\n",
       "        vertical-align: middle;\n",
       "    }\n",
       "\n",
       "    .dataframe tbody tr th {\n",
       "        vertical-align: top;\n",
       "    }\n",
       "\n",
       "    .dataframe thead th {\n",
       "        text-align: right;\n",
       "    }\n",
       "</style>\n",
       "<table border=\"1\" class=\"dataframe\">\n",
       "  <thead>\n",
       "    <tr style=\"text-align: right;\">\n",
       "      <th></th>\n",
       "      <th>title</th>\n",
       "      <th>author</th>\n",
       "      <th>date</th>\n",
       "      <th>summary</th>\n",
       "      <th>genre</th>\n",
       "      <th>genre_id</th>\n",
       "    </tr>\n",
       "  </thead>\n",
       "  <tbody>\n",
       "    <tr>\n",
       "      <th>0</th>\n",
       "      <td>Animal Farm</td>\n",
       "      <td>George Orwell</td>\n",
       "      <td>1945-08-17</td>\n",
       "      <td>Old Major, the old boar on the Manor Farm, ca...</td>\n",
       "      <td>Children's literature</td>\n",
       "      <td>0</td>\n",
       "    </tr>\n",
       "    <tr>\n",
       "      <th>1</th>\n",
       "      <td>A Clockwork Orange</td>\n",
       "      <td>Anthony Burgess</td>\n",
       "      <td>1962</td>\n",
       "      <td>Alex, a teenager living in near-future Englan...</td>\n",
       "      <td>Novel</td>\n",
       "      <td>2</td>\n",
       "    </tr>\n",
       "    <tr>\n",
       "      <th>2</th>\n",
       "      <td>The Plague</td>\n",
       "      <td>Albert Camus</td>\n",
       "      <td>1947</td>\n",
       "      <td>The text of The Plague is divided into five p...</td>\n",
       "      <td>Novel</td>\n",
       "      <td>2</td>\n",
       "    </tr>\n",
       "    <tr>\n",
       "      <th>4</th>\n",
       "      <td>A Fire Upon the Deep</td>\n",
       "      <td>Vernor Vinge</td>\n",
       "      <td></td>\n",
       "      <td>The novel posits that space around the Milky ...</td>\n",
       "      <td>Fantasy</td>\n",
       "      <td>3</td>\n",
       "    </tr>\n",
       "    <tr>\n",
       "      <th>6</th>\n",
       "      <td>A Wizard of Earthsea</td>\n",
       "      <td>Ursula K. Le Guin</td>\n",
       "      <td>1968</td>\n",
       "      <td>Ged is a young boy on Gont, one of the larger...</td>\n",
       "      <td>Fantasy</td>\n",
       "      <td>3</td>\n",
       "    </tr>\n",
       "  </tbody>\n",
       "</table>\n",
       "</div>"
      ],
      "text/plain": [
       "                  title             author        date  \\\n",
       "0           Animal Farm      George Orwell  1945-08-17   \n",
       "1    A Clockwork Orange    Anthony Burgess        1962   \n",
       "2            The Plague       Albert Camus        1947   \n",
       "4  A Fire Upon the Deep       Vernor Vinge               \n",
       "6  A Wizard of Earthsea  Ursula K. Le Guin        1968   \n",
       "\n",
       "                                             summary                  genre  \\\n",
       "0   Old Major, the old boar on the Manor Farm, ca...  Children's literature   \n",
       "1   Alex, a teenager living in near-future Englan...                  Novel   \n",
       "2   The text of The Plague is divided into five p...                  Novel   \n",
       "4   The novel posits that space around the Milky ...                Fantasy   \n",
       "6   Ged is a young boy on Gont, one of the larger...                Fantasy   \n",
       "\n",
       "   genre_id  \n",
       "0         0  \n",
       "1         2  \n",
       "2         2  \n",
       "4         3  \n",
       "6         3  "
      ]
     },
     "execution_count": 6,
     "metadata": {},
     "output_type": "execute_result"
    }
   ],
   "source": [
    "# Map target genres to numerical values\n",
    "category = [\"Children's literature\", 'Science Fiction', 'Novel', 'Fantasy', 'Mystery']\n",
    "index = dict(zip(category,range(len(category))))\n",
    "print(index)\n",
    "\n",
    "# Map the day_of_week to the required index\n",
    "genre_books['genre_id'] = genre_books['genre']\n",
    "genre_books['genre_id'] = genre_books['genre_id'].map(index)\n",
    "\n",
    "genre_books.head()"
   ]
  },
  {
   "cell_type": "code",
   "execution_count": 7,
   "metadata": {
    "ExecuteTime": {
     "end_time": "2021-05-16T06:55:33.172295Z",
     "start_time": "2021-05-16T06:55:33.142718Z"
    }
   },
   "outputs": [],
   "source": [
    "y = genre_books['genre_id']"
   ]
  },
  {
   "cell_type": "markdown",
   "metadata": {},
   "source": [
    "## Model Training\n",
    "\n",
    "Train (at least) two predictive models from the given data set.\n",
    "* Logistic regression\n",
    "* Naive Bays classification - Multinomial, Bernoulli, Complement"
   ]
  },
  {
   "cell_type": "code",
   "execution_count": 8,
   "metadata": {
    "ExecuteTime": {
     "end_time": "2021-05-16T06:55:33.187304Z",
     "start_time": "2021-05-16T06:55:33.174307Z"
    }
   },
   "outputs": [
    {
     "name": "stdout",
     "output_type": "stream",
     "text": [
      "Train: (7163, 20000) (7163,)\n",
      "Test: (1791, 20000) (1791,)\n"
     ]
    }
   ],
   "source": [
    "# Split the data into training(80%) and testing data(20%) and use random_state=142\n",
    "X_train, X_test, y_train, y_test = train_test_split(X, y, test_size=0.2, random_state=142)\n",
    "print(\"Train:\", X_train.shape, y_train.shape)\n",
    "print(\"Test:\", X_test.shape, y_test.shape)"
   ]
  },
  {
   "cell_type": "code",
   "execution_count": 9,
   "metadata": {
    "ExecuteTime": {
     "end_time": "2021-05-16T06:55:33.203307Z",
     "start_time": "2021-05-16T06:55:33.188303Z"
    }
   },
   "outputs": [],
   "source": [
    "# Define a modelling function with train & test execution time\n",
    "def modelling(model):\n",
    "    print('_' * 80)\n",
    "    print(\"Training: \")\n",
    "    print(model)\n",
    "    \n",
    "    # fit the model to the train set\n",
    "    t0 = time()\n",
    "    model.fit(X_train, y_train)\n",
    "    train_time = time() - t0\n",
    "    print(\"train time: %0.3fs\" % train_time)\n",
    "    \n",
    "    # predict on the test set\n",
    "    t0 = time()\n",
    "    y_pred = model.predict(X_test)\n",
    "    test_time = time() - t0\n",
    "    print(\"test time:  %0.3fs\" % test_time)"
   ]
  },
  {
   "cell_type": "code",
   "execution_count": 10,
   "metadata": {
    "ExecuteTime": {
     "end_time": "2021-05-16T06:55:35.260986Z",
     "start_time": "2021-05-16T06:55:33.204322Z"
    },
    "scrolled": true
   },
   "outputs": [
    {
     "name": "stdout",
     "output_type": "stream",
     "text": [
      "________________________________________________________________________________\n",
      "Training: \n",
      "LogisticRegression(max_iter=250)\n",
      "train time: 1.959s\n",
      "test time:  0.000s\n",
      "________________________________________________________________________________\n",
      "Training: \n",
      "MultinomialNB(alpha=0.1)\n",
      "train time: 0.016s\n",
      "test time:  0.016s\n",
      "________________________________________________________________________________\n",
      "Training: \n",
      "BernoulliNB(alpha=0.1)\n",
      "train time: 0.016s\n",
      "test time:  0.016s\n",
      "________________________________________________________________________________\n",
      "Training: \n",
      "ComplementNB(alpha=0.1)\n",
      "train time: 0.016s\n",
      "test time:  0.000s\n"
     ]
    }
   ],
   "source": [
    "models = (LogisticRegression(max_iter=250), MultinomialNB(alpha=.1), BernoulliNB(alpha=.1), ComplementNB(alpha=.1))\n",
    "for model in models:\n",
    "    modelling(model)"
   ]
  },
  {
   "cell_type": "markdown",
   "metadata": {},
   "source": [
    "**Comment:**\n",
    "Among all models, logistic regression model takes the longest time to train. Meanwhile, Naive Bayes models take much less time to train."
   ]
  },
  {
   "cell_type": "markdown",
   "metadata": {},
   "source": [
    "## Model Evaluation\n",
    "\n",
    "Finally, evaluate and compare the learned predictive models."
   ]
  },
  {
   "cell_type": "markdown",
   "metadata": {},
   "source": [
    "### Accuracy score"
   ]
  },
  {
   "cell_type": "code",
   "execution_count": 11,
   "metadata": {
    "ExecuteTime": {
     "end_time": "2021-05-16T06:55:37.258285Z",
     "start_time": "2021-05-16T06:55:35.262987Z"
    }
   },
   "outputs": [
    {
     "data": {
      "text/html": [
       "<div>\n",
       "<style scoped>\n",
       "    .dataframe tbody tr th:only-of-type {\n",
       "        vertical-align: middle;\n",
       "    }\n",
       "\n",
       "    .dataframe tbody tr th {\n",
       "        vertical-align: top;\n",
       "    }\n",
       "\n",
       "    .dataframe thead th {\n",
       "        text-align: right;\n",
       "    }\n",
       "</style>\n",
       "<table border=\"1\" class=\"dataframe\">\n",
       "  <thead>\n",
       "    <tr style=\"text-align: right;\">\n",
       "      <th></th>\n",
       "      <th>Model</th>\n",
       "      <th>Accuracy score</th>\n",
       "    </tr>\n",
       "  </thead>\n",
       "  <tbody>\n",
       "    <tr>\n",
       "      <th>0</th>\n",
       "      <td>LogisticRegression(max_iter=250)</td>\n",
       "      <td>0.696259</td>\n",
       "    </tr>\n",
       "    <tr>\n",
       "      <th>1</th>\n",
       "      <td>MultinomialNB(alpha=0.1)</td>\n",
       "      <td>0.694026</td>\n",
       "    </tr>\n",
       "    <tr>\n",
       "      <th>2</th>\n",
       "      <td>BernoulliNB(alpha=0.1)</td>\n",
       "      <td>0.627582</td>\n",
       "    </tr>\n",
       "    <tr>\n",
       "      <th>3</th>\n",
       "      <td>ComplementNB(alpha=0.1)</td>\n",
       "      <td>0.690117</td>\n",
       "    </tr>\n",
       "  </tbody>\n",
       "</table>\n",
       "</div>"
      ],
      "text/plain": [
       "                              Model  Accuracy score\n",
       "0  LogisticRegression(max_iter=250)        0.696259\n",
       "1          MultinomialNB(alpha=0.1)        0.694026\n",
       "2            BernoulliNB(alpha=0.1)        0.627582\n",
       "3           ComplementNB(alpha=0.1)        0.690117"
      ]
     },
     "execution_count": 11,
     "metadata": {},
     "output_type": "execute_result"
    }
   ],
   "source": [
    "# Define a function for evaluating accuracy score\n",
    "def accuracy(model):\n",
    "    model.fit(X_train, y_train)\n",
    "    y_pred = model.predict(X_test)      \n",
    "    \n",
    "    return accuracy_score(y_test,y_pred)    \n",
    "\n",
    "# Create a table comparing accuracy score\n",
    "rows = []\n",
    "for model in models:\n",
    "    rows.append([model, accuracy(model)])\n",
    "\n",
    "performance = pd.DataFrame(rows, columns=['Model', 'Accuracy score'])\n",
    "performance"
   ]
  },
  {
   "cell_type": "markdown",
   "metadata": {},
   "source": [
    "**Comment:**\n",
    "Comparing the accuracy scores between models:\n",
    "* **Logistic Regression** has the best performance with the rate of 69.63%.\n",
    "* **Bernoulli Naive Bayes** has the lowest correct prediction percebtage of 62.40%.\n",
    "* Among three Naive Bayes models, the **Multinomial** model has the highest accuracy score being 69.40%.\n",
    "\n",
    "Nevertheless, with the accuracy score below 70%, all models are not doing well. To increase the performance, more features (e.g. author) and better tuning should be added. Additionally, more processing on text can be done to improve prediction based on words."
   ]
  },
  {
   "cell_type": "markdown",
   "metadata": {},
   "source": [
    "### Confusion matrix\n",
    "\n",
    "The confusion matrix will be visualised to provide the detailed outputs of the predictive models."
   ]
  },
  {
   "cell_type": "code",
   "execution_count": 12,
   "metadata": {
    "ExecuteTime": {
     "end_time": "2021-05-16T06:55:37.274289Z",
     "start_time": "2021-05-16T06:55:37.259287Z"
    }
   },
   "outputs": [],
   "source": [
    "# Define a function that returns confusion matrix\n",
    "def cm(model):\n",
    "    model.fit(X_train, y_train)\n",
    "    y_pred = model.predict(X_test)        \n",
    "    \n",
    "    return confusion_matrix(y_test,y_pred)"
   ]
  },
  {
   "cell_type": "code",
   "execution_count": 13,
   "metadata": {
    "ExecuteTime": {
     "end_time": "2021-05-16T06:55:41.046803Z",
     "start_time": "2021-05-16T06:55:37.275290Z"
    }
   },
   "outputs": [
    {
     "data": {
      "image/png": "[encoded data removed]",
      "text/plain": [
       "<Figure size 864x648 with 4 Axes>"
      ]
     },
     "metadata": {
      "needs_background": "light"
     },
     "output_type": "display_data"
    }
   ],
   "source": [
    "# Plot the heat maps\n",
    "fig, axes = plt.subplots(2, 2, figsize=(12, 9))\n",
    "\n",
    "for model, ax in zip(models, axes.flatten()):\n",
    "    sns.heatmap(cm(model), xticklabels=category, yticklabels=category, annot=True, cmap=\"Blues\", fmt='d', cbar=False, ax=ax)\n",
    "    ax.set(xlabel='Predicted values', ylabel='Actual values', title = model)\n",
    "\n",
    "fig.suptitle('Confusion matrix', y=0)\n",
    "fig.tight_layout()\n",
    "plt.show()"
   ]
  },
  {
   "cell_type": "markdown",
   "metadata": {},
   "source": [
    "**Comment:**\n",
    "* General interpretation (for each class/genre):\n",
    "    * **Total actual values** = Sum Positive = True Positive (TP) + False Positive (FP) ~ sum of the row\n",
    "    * **Total predicted value** = True Positive (TP) + False Negative (NP) ~ sum of the column\n",
    "    * **True Positive (TP)** = actual values that are correctly predicted as true ~ when predicted values match actual values\n",
    "    * **False Positive (FP)** = actual values that are wrongly predicted as false\n",
    "    * **False Negative (FN)** = other values that are wrongly predicted as true ~ when predicted values are not actual values\n",
    "    * **True Negative (TN)** = other values that are correctly predicted as false\n",
    "\n",
    "* A sample interpretation of predicting **Children's literature** genre by **Logistic Regression**:\n",
    "    * TP = 103; FP = 9+62+51+12 = 134; FN = 4+15+12+5 = 36\n",
    "    * The model correctly classifies 103 books of Children genre out of its total 139 (103+36) predictions for this genre. The model's precision rate for the Children genre is 74.10% (103/139).\n",
    "    * The model only identifies 103 Children books out of the total 237 (103+134) Children books. The accuracy score of the model for the Children genre is 43.46% (103/237).\n",
    "    \n",
    "* The confusion matrix will be interpreted in percentage in the **classification report**.\n",
    "    * **Precision** = Correctly predicted actual values/total predicted values (or = TP/(TP + FP))\n",
    "    * **Recall** = Correctly predicted actual values/total actual values (or = TP/(TP + FN))"
   ]
  },
  {
   "cell_type": "markdown",
   "metadata": {},
   "source": [
    "### Classification report\n",
    "\n",
    "The discussion will be focused on the classification reports of the top 2 best performing models - Logistic Regression and Multinomial Naive Bayes. Some notations:\n",
    "* **Precision** = Correctly predicted actual values/total predicted values (or = TP/(TP + FP))    \n",
    "* **Recall** = Correctly predicted actual values/total actual values (or = TP/(TP + FN))    \n",
    "* **Accuracy score** = weighted average of Recall score    \n",
    "* **F1 score** is the weighted average of Precision and Recall, taking both false positives and false negatives into account. This can be more useful than accuracy score when there is an imbalanced class distribution."
   ]
  },
  {
   "cell_type": "code",
   "execution_count": 14,
   "metadata": {
    "ExecuteTime": {
     "end_time": "2021-05-16T06:55:41.062801Z",
     "start_time": "2021-05-16T06:55:41.048804Z"
    }
   },
   "outputs": [],
   "source": [
    "# Define a function for producing classification report\n",
    "def report(model):\n",
    "    print(\"Classification report:\")\n",
    "    print(model)\n",
    "    model.fit(X_train, y_train)\n",
    "    y_pred = model.predict(X_test) \n",
    "    table = pd.DataFrame(classification_report(y_test, y_pred, output_dict=True)).transpose()\n",
    "    \n",
    "    return table"
   ]
  },
  {
   "cell_type": "code",
   "execution_count": 15,
   "metadata": {
    "ExecuteTime": {
     "end_time": "2021-05-16T06:55:43.062994Z",
     "start_time": "2021-05-16T06:55:41.064795Z"
    }
   },
   "outputs": [
    {
     "name": "stdout",
     "output_type": "stream",
     "text": [
      "Classification report:\n",
      "LogisticRegression(max_iter=250)\n"
     ]
    },
    {
     "data": {
      "text/html": [
       "<div>\n",
       "<style scoped>\n",
       "    .dataframe tbody tr th:only-of-type {\n",
       "        vertical-align: middle;\n",
       "    }\n",
       "\n",
       "    .dataframe tbody tr th {\n",
       "        vertical-align: top;\n",
       "    }\n",
       "\n",
       "    .dataframe thead th {\n",
       "        text-align: right;\n",
       "    }\n",
       "</style>\n",
       "<table border=\"1\" class=\"dataframe\">\n",
       "  <thead>\n",
       "    <tr style=\"text-align: right;\">\n",
       "      <th></th>\n",
       "      <th>precision</th>\n",
       "      <th>recall</th>\n",
       "      <th>f1-score</th>\n",
       "      <th>support</th>\n",
       "    </tr>\n",
       "  </thead>\n",
       "  <tbody>\n",
       "    <tr>\n",
       "      <th>0</th>\n",
       "      <td>0.741007</td>\n",
       "      <td>0.434599</td>\n",
       "      <td>0.547872</td>\n",
       "      <td>237.000000</td>\n",
       "    </tr>\n",
       "    <tr>\n",
       "      <th>1</th>\n",
       "      <td>0.758808</td>\n",
       "      <td>0.700000</td>\n",
       "      <td>0.728218</td>\n",
       "      <td>400.000000</td>\n",
       "    </tr>\n",
       "    <tr>\n",
       "      <th>2</th>\n",
       "      <td>0.603203</td>\n",
       "      <td>0.788372</td>\n",
       "      <td>0.683468</td>\n",
       "      <td>430.000000</td>\n",
       "    </tr>\n",
       "    <tr>\n",
       "      <th>3</th>\n",
       "      <td>0.709419</td>\n",
       "      <td>0.781457</td>\n",
       "      <td>0.743697</td>\n",
       "      <td>453.000000</td>\n",
       "    </tr>\n",
       "    <tr>\n",
       "      <th>4</th>\n",
       "      <td>0.770270</td>\n",
       "      <td>0.630996</td>\n",
       "      <td>0.693712</td>\n",
       "      <td>271.000000</td>\n",
       "    </tr>\n",
       "    <tr>\n",
       "      <th>accuracy</th>\n",
       "      <td>0.696259</td>\n",
       "      <td>0.696259</td>\n",
       "      <td>0.696259</td>\n",
       "      <td>0.696259</td>\n",
       "    </tr>\n",
       "    <tr>\n",
       "      <th>macro avg</th>\n",
       "      <td>0.716541</td>\n",
       "      <td>0.667085</td>\n",
       "      <td>0.679394</td>\n",
       "      <td>1791.000000</td>\n",
       "    </tr>\n",
       "    <tr>\n",
       "      <th>weighted avg</th>\n",
       "      <td>0.708336</td>\n",
       "      <td>0.696259</td>\n",
       "      <td>0.692303</td>\n",
       "      <td>1791.000000</td>\n",
       "    </tr>\n",
       "  </tbody>\n",
       "</table>\n",
       "</div>"
      ],
      "text/plain": [
       "              precision    recall  f1-score      support\n",
       "0              0.741007  0.434599  0.547872   237.000000\n",
       "1              0.758808  0.700000  0.728218   400.000000\n",
       "2              0.603203  0.788372  0.683468   430.000000\n",
       "3              0.709419  0.781457  0.743697   453.000000\n",
       "4              0.770270  0.630996  0.693712   271.000000\n",
       "accuracy       0.696259  0.696259  0.696259     0.696259\n",
       "macro avg      0.716541  0.667085  0.679394  1791.000000\n",
       "weighted avg   0.708336  0.696259  0.692303  1791.000000"
      ]
     },
     "execution_count": 15,
     "metadata": {},
     "output_type": "execute_result"
    }
   ],
   "source": [
    "# Logistic Regression\n",
    "report(LogisticRegression(max_iter=250))"
   ]
  },
  {
   "cell_type": "markdown",
   "metadata": {},
   "source": [
    "**Comment:** \n",
    "* Logistic Regression (max_iter=250) model has the highest precision for prediction Mystery(4) genre at 77.03% and the highest accuracy scores for Novel(2) genre at 78.84% and Fantasy(3) at 78.15%.\n",
    "* However, the model has much better F1-scores (over 72%) for Fantasy(3) and Science Fiction(1) which have both the precision and recall rates above 70.00%.\n",
    "* Children's literature (0) sees the worst performance for both recall and f1-score."
   ]
  },
  {
   "cell_type": "code",
   "execution_count": 16,
   "metadata": {
    "ExecuteTime": {
     "end_time": "2021-05-16T06:55:43.095001Z",
     "start_time": "2021-05-16T06:55:43.063995Z"
    }
   },
   "outputs": [
    {
     "name": "stdout",
     "output_type": "stream",
     "text": [
      "Classification report:\n",
      "MultinomialNB(alpha=0.1)\n"
     ]
    },
    {
     "data": {
      "text/html": [
       "<div>\n",
       "<style scoped>\n",
       "    .dataframe tbody tr th:only-of-type {\n",
       "        vertical-align: middle;\n",
       "    }\n",
       "\n",
       "    .dataframe tbody tr th {\n",
       "        vertical-align: top;\n",
       "    }\n",
       "\n",
       "    .dataframe thead th {\n",
       "        text-align: right;\n",
       "    }\n",
       "</style>\n",
       "<table border=\"1\" class=\"dataframe\">\n",
       "  <thead>\n",
       "    <tr style=\"text-align: right;\">\n",
       "      <th></th>\n",
       "      <th>precision</th>\n",
       "      <th>recall</th>\n",
       "      <th>f1-score</th>\n",
       "      <th>support</th>\n",
       "    </tr>\n",
       "  </thead>\n",
       "  <tbody>\n",
       "    <tr>\n",
       "      <th>0</th>\n",
       "      <td>0.715278</td>\n",
       "      <td>0.434599</td>\n",
       "      <td>0.540682</td>\n",
       "      <td>237.000000</td>\n",
       "    </tr>\n",
       "    <tr>\n",
       "      <th>1</th>\n",
       "      <td>0.753247</td>\n",
       "      <td>0.725000</td>\n",
       "      <td>0.738854</td>\n",
       "      <td>400.000000</td>\n",
       "    </tr>\n",
       "    <tr>\n",
       "      <th>2</th>\n",
       "      <td>0.581272</td>\n",
       "      <td>0.765116</td>\n",
       "      <td>0.660643</td>\n",
       "      <td>430.000000</td>\n",
       "    </tr>\n",
       "    <tr>\n",
       "      <th>3</th>\n",
       "      <td>0.752174</td>\n",
       "      <td>0.763797</td>\n",
       "      <td>0.757941</td>\n",
       "      <td>453.000000</td>\n",
       "    </tr>\n",
       "    <tr>\n",
       "      <th>4</th>\n",
       "      <td>0.741525</td>\n",
       "      <td>0.645756</td>\n",
       "      <td>0.690335</td>\n",
       "      <td>271.000000</td>\n",
       "    </tr>\n",
       "    <tr>\n",
       "      <th>accuracy</th>\n",
       "      <td>0.694026</td>\n",
       "      <td>0.694026</td>\n",
       "      <td>0.694026</td>\n",
       "      <td>0.694026</td>\n",
       "    </tr>\n",
       "    <tr>\n",
       "      <th>macro avg</th>\n",
       "      <td>0.708699</td>\n",
       "      <td>0.666854</td>\n",
       "      <td>0.677691</td>\n",
       "      <td>1791.000000</td>\n",
       "    </tr>\n",
       "    <tr>\n",
       "      <th>weighted avg</th>\n",
       "      <td>0.704888</td>\n",
       "      <td>0.694026</td>\n",
       "      <td>0.691339</td>\n",
       "      <td>1791.000000</td>\n",
       "    </tr>\n",
       "  </tbody>\n",
       "</table>\n",
       "</div>"
      ],
      "text/plain": [
       "              precision    recall  f1-score      support\n",
       "0              0.715278  0.434599  0.540682   237.000000\n",
       "1              0.753247  0.725000  0.738854   400.000000\n",
       "2              0.581272  0.765116  0.660643   430.000000\n",
       "3              0.752174  0.763797  0.757941   453.000000\n",
       "4              0.741525  0.645756  0.690335   271.000000\n",
       "accuracy       0.694026  0.694026  0.694026     0.694026\n",
       "macro avg      0.708699  0.666854  0.677691  1791.000000\n",
       "weighted avg   0.704888  0.694026  0.691339  1791.000000"
      ]
     },
     "execution_count": 16,
     "metadata": {},
     "output_type": "execute_result"
    }
   ],
   "source": [
    "# MultinomialNB\n",
    "report(MultinomialNB(alpha=0.1))"
   ]
  },
  {
   "cell_type": "markdown",
   "metadata": {},
   "source": [
    "**Comment:** \n",
    "* MultinomialNB(alpha=0.1) model performs best in Fantasy(3) and Science Fiction(1) genres.\n",
    "* Fantasy(3) prediction has the highest F1-score of 75.91%, scoring the second best in both precision and recall rates at over 75%. \n",
    "* Science Fiction(1) category which ranks second in F1-score has the best precision of 75.32% and a high recall rate of 72.50%.\n",
    "* However, Novel(2) is the genre with the highest accuracy score of 76.51% and the worst precision rate.\n",
    "* Meanwhile, Children's literature (0) continues to see the lowest in both recall and f1-score."
   ]
  },
  {
   "cell_type": "code",
   "execution_count": 17,
   "metadata": {
    "ExecuteTime": {
     "end_time": "2021-05-16T06:55:45.203518Z",
     "start_time": "2021-05-16T06:55:43.096003Z"
    }
   },
   "outputs": [
    {
     "name": "stdout",
     "output_type": "stream",
     "text": [
      "________________________________________________________________________________\n",
      "Classification report:\n",
      "LogisticRegression(max_iter=250)\n",
      "              precision    recall  f1-score   support\n",
      "\n",
      "           0       0.74      0.43      0.55       237\n",
      "           1       0.76      0.70      0.73       400\n",
      "           2       0.60      0.79      0.68       430\n",
      "           3       0.71      0.78      0.74       453\n",
      "           4       0.77      0.63      0.69       271\n",
      "\n",
      "    accuracy                           0.70      1791\n",
      "   macro avg       0.72      0.67      0.68      1791\n",
      "weighted avg       0.71      0.70      0.69      1791\n",
      "\n",
      "________________________________________________________________________________\n",
      "Classification report:\n",
      "MultinomialNB(alpha=0.1)\n",
      "              precision    recall  f1-score   support\n",
      "\n",
      "           0       0.72      0.43      0.54       237\n",
      "           1       0.75      0.72      0.74       400\n",
      "           2       0.58      0.77      0.66       430\n",
      "           3       0.75      0.76      0.76       453\n",
      "           4       0.74      0.65      0.69       271\n",
      "\n",
      "    accuracy                           0.69      1791\n",
      "   macro avg       0.71      0.67      0.68      1791\n",
      "weighted avg       0.70      0.69      0.69      1791\n",
      "\n",
      "________________________________________________________________________________\n",
      "Classification report:\n",
      "BernoulliNB(alpha=0.1)\n",
      "              precision    recall  f1-score   support\n",
      "\n",
      "           0       0.34      0.71      0.46       237\n",
      "           1       0.72      0.69      0.70       400\n",
      "           2       0.69      0.59      0.63       430\n",
      "           3       0.82      0.58      0.68       453\n",
      "           4       0.73      0.62      0.67       271\n",
      "\n",
      "    accuracy                           0.63      1791\n",
      "   macro avg       0.66      0.64      0.63      1791\n",
      "weighted avg       0.69      0.63      0.64      1791\n",
      "\n",
      "________________________________________________________________________________\n",
      "Classification report:\n",
      "ComplementNB(alpha=0.1)\n",
      "              precision    recall  f1-score   support\n",
      "\n",
      "           0       0.66      0.44      0.53       237\n",
      "           1       0.74      0.77      0.75       400\n",
      "           2       0.62      0.69      0.65       430\n",
      "           3       0.76      0.75      0.75       453\n",
      "           4       0.66      0.69      0.67       271\n",
      "\n",
      "    accuracy                           0.69      1791\n",
      "   macro avg       0.69      0.67      0.67      1791\n",
      "weighted avg       0.69      0.69      0.69      1791\n",
      "\n"
     ]
    }
   ],
   "source": [
    "# Overview of classification reports of all models\n",
    "for model in models:\n",
    "    print('_' * 80)\n",
    "    print(\"Classification report:\")\n",
    "    print(model)\n",
    "    model.fit(X_train, y_train)\n",
    "    y_pred = model.predict(X_test) \n",
    "    print(classification_report(y_test, y_pred))"
   ]
  },
  {
   "cell_type": "markdown",
   "metadata": {},
   "source": [
    "**General trends:** \n",
    "* **Fantasy** and **Science Fiction** are the two best predicted genres by all models. One possible explanation for this might be that these two genres have more distinct keywords compared to the remaining genres.\n",
    "* On the other hand, **Children's Literature** is the most misclassified one. This might be due to the genre having much smaller number of samples compared to other genres in the data set and having fewer distinguished keywords."
   ]
  },
  {
   "cell_type": "markdown",
   "metadata": {},
   "source": [
    "## Conclusion\n",
    "\n",
    "This portfolio aims to build predictive models from the CMU Book Summaries dataset and classify the books into one of the five target genres: Children's Literature, Science Fiction, Novel, Fantasy and Mystery. First, the dataset is filtered to only include one target genre label per book. Next, book summaries are converted from the text format to the more suitable word features using `TfidfVectorizer`. Then, the **Logistic regression** and **Naive Bayes models (Multinomial, Bernoulli & Complement)** are selected to be built on the training set and make predictions on the testing set. Finally, the models are evaluated and compared through several metric scores on their performances in prediction.\n",
    "\n",
    "Overall, **Logistic Regression** has the best performance with an accuracy score of 69.63%, followed by **Multinomial Naive Bayes** classifier doing better than the other two Naive Bayes models. However, logistic model takes the longest time to train while all Naive Bayes models spend much less time to execute.\n",
    "\n",
    "In general, **Fantasy** and **Science Fiction** genres are most accurately predicted by all models, whereas **Children's Literature** sees the poorest performance. The difference in accuracy may be due to Fantasy and Science Fiction books having more distinct keywords than the other genres, and Children books being a minority class in the data set.\n",
    "\n",
    "Nonetheless, all models are not yet a good fit with the accuracy score below 70%. More features, such as the author's name and book's title, and better tuning may be added to improve the prediction. In addition, text can be further processed to increase performance based on words."
   ]
  }
 ],
 "metadata": {
  "kernelspec": {
   "display_name": "Python 3",
   "language": "python",
   "name": "python3"
  },
  "language_info": {
   "codemirror_mode": {
    "name": "ipython",
    "version": 3
   },
   "file_extension": ".py",
   "mimetype": "text/x-python",
   "name": "python",
   "nbconvert_exporter": "python",
   "pygments_lexer": "ipython3",
   "version": "3.8.5"
  },
  "toc": {
   "base_numbering": 1,
   "nav_menu": {},
   "number_sections": false,
   "sideBar": true,
   "skip_h1_title": false,
   "title_cell": "Table of Contents",
   "title_sidebar": "Contents",
   "toc_cell": false,
   "toc_position": {},
   "toc_section_display": true,
   "toc_window_display": false
  }
 },
 "nbformat": 4,
 "nbformat_minor": 2
}
